{
 "cells": [
  {
   "cell_type": "code",
   "execution_count": null,
   "id": "c2fd8e93",
   "metadata": {},
   "outputs": [],
   "source": [
    "import os\n",
    "import csv"
   ]
  },
  {
   "cell_type": "code",
   "execution_count": null,
   "id": "a0af15a0",
   "metadata": {},
   "outputs": [],
   "source": [
    "#defining the path, opening the file and displaying the header\n",
    "csvpath=os.path.join(\"Resources\",\"election_data.csv\")\n",
    "with open(csvpath,'r') as csvfile:\n",
    "    csvreader=csv.reader(csvfile,delimiter=\",\")\n",
    "    csv_header=next(csvreader)\n",
    "    print(f\"CSV Header: {csv_header}\")\n",
    "    for row in csvreader:\n",
    "        print(row)"
   ]
  },
  {
   "cell_type": "code",
   "execution_count": null,
   "id": "643cc37f",
   "metadata": {},
   "outputs": [],
   "source": [
    "#finding total number of votes\n",
    "with open(csvpath,'r') as csvfile:\n",
    "    csvreader=csv.reader(csvfile,delimiter=\",\")\n",
    "    #seting votes counter to 0\n",
    "    total_votes=0\n",
    "    for row in csvreader:\n",
    "        total_votes +=1\n",
    "#subtracting 1 to eliminate the header from the count\n",
    "total_votes=total_votes-1\n",
    "print(total_votes)"
   ]
  },
  {
   "cell_type": "code",
   "execution_count": null,
   "id": "ed65ac65",
   "metadata": {},
   "outputs": [],
   "source": [
    "#Creating complete list of candidates\n",
    "with open(csvpath,'r') as csvfile:\n",
    "    csvreader=csv.reader(csvfile,delimiter=\",\")\n",
    "#Using set function to get unique values\n",
    "    candidate=set()\n",
    "    for row in csvreader:\n",
    "        #using condition to skip the header value\n",
    "        if row[2]==\"Candidate\":\n",
    "            candidate=set(\"\")\n",
    "        else:\n",
    "            candidate.add(row[2])\n",
    "            \n",
    "print (candidate)"
   ]
  },
  {
   "cell_type": "code",
   "execution_count": null,
   "id": "791e046d",
   "metadata": {},
   "outputs": [],
   "source": [
    "#The total number of votes each candidate won\n",
    "with open(csvpath,'r') as csvfile:\n",
    "    csvreader=csv.reader(csvfile,delimiter=\",\")\n",
    "    k_votes=0\n",
    "    c_votes=0\n",
    "    l_votes=0\n",
    "    o_votes=0\n",
    "    #looping through rows to count votes for each candidate\n",
    "    for row in csvreader:\n",
    "        if row[2]==\"Khan\":\n",
    "            k_votes+=1\n",
    "        elif row[2]==\"Correy\":\n",
    "            c_votes+=1\n",
    "        elif row[2]==\"Li\":\n",
    "            l_votes+=1\n",
    "        elif row[2]==\"O'Tooley\":\n",
    "            o_votes+=1\n",
    "            \n",
    "print(f\"Khan: {k_votes} and Coorey: {c_votes} and Li: {l_votes} and O'Tooley: {o_votes}\")"
   ]
  },
  {
   "cell_type": "code",
   "execution_count": null,
   "id": "5c2333a7",
   "metadata": {},
   "outputs": [],
   "source": [
    "#Calculating percentage of votes each candidate won\n",
    "percent_Khan = round((k_votes / total_votes)*100,2)\n",
    "percent_Coorey = round((c_votes/total_votes)*100,2)\n",
    "percent_Li = round((l_votes/total_votes)*100,2)\n",
    "percent_Tooley = round((o_votes/total_votes)*100,2)\n",
    "print(f\"Percentage - Khan: {percent_Khan}% and Coorey: {percent_Coorey}% and Li: {percent_Li}% and O'Tooley: {percent_Tooley}%\")"
   ]
  },
  {
   "cell_type": "code",
   "execution_count": null,
   "id": "9a22d2ba",
   "metadata": {},
   "outputs": [],
   "source": [
    "#creating a list with all the results\n",
    "results=(percent_Khan,percent_Coorey,percent_Li,percent_Tooley)\n",
    "#using max function to find the winning result and finding the index of the higest result to identify the winner\n",
    "winner=results.index(max(results))\n",
    "print(winner)"
   ]
  },
  {
   "cell_type": "code",
   "execution_count": null,
   "id": "049a70fb",
   "metadata": {},
   "outputs": [],
   "source": [
    "#Creating dictionary with the election results and printing it to the terminal\n",
    "election={\"Total votes\": total_votes,\n",
    "         \"Khan\":[percent_Khan, k_votes],\n",
    "         \"Correy\":[percent_Coorey, c_votes],\n",
    "         \"Li\":[percent_Li, l_votes],\n",
    "         \"O'Tooley\":[percent_Tooley, o_votes],\n",
    "         \"Winner\":\"Khan\"}\n",
    "print(election)"
   ]
  },
  {
   "cell_type": "code",
   "execution_count": null,
   "id": "b739aed4",
   "metadata": {},
   "outputs": [],
   "source": [
    "#Exporting text file to the Analysis folder\n",
    "output_path=\"Analysis/PyPoll_Election_Results.txt\"\n",
    "lines=['Election Results', 'Total votes: 3521001', 'Khan: 63.0% (2218231)', 'Correy: 20.0% (704200)', 'Li: 14.0% (492940)', \"O'Tooley: 3.0% (105630)\", 'Winner: Khan']\n",
    "with open(output_path,'w',newline=\"\") as txt:\n",
    "    for line in lines:\n",
    "        txt.write(line)\n",
    "        txt.write('\\n')"
   ]
  }
 ],
 "metadata": {
  "kernelspec": {
   "display_name": "Python 3",
   "language": "python",
   "name": "python3"
  },
  "language_info": {
   "codemirror_mode": {
    "name": "ipython",
    "version": 3
   },
   "file_extension": ".py",
   "mimetype": "text/x-python",
   "name": "python",
   "nbconvert_exporter": "python",
   "pygments_lexer": "ipython3",
   "version": "3.8.8"
  }
 },
 "nbformat": 4,
 "nbformat_minor": 5
}
