{
 "cells": [
  {
   "cell_type": "code",
   "execution_count": null,
   "id": "2d03af09",
   "metadata": {},
   "outputs": [],
   "source": [
    "import os\n",
    "import csv"
   ]
  },
  {
   "cell_type": "code",
   "execution_count": null,
   "id": "ff1cf69f",
   "metadata": {},
   "outputs": [],
   "source": [
    "#defining the path\n",
    "csvpath=os.path.join(\"Resources\",\"budget_data.csv\")"
   ]
  },
  {
   "cell_type": "code",
   "execution_count": null,
   "id": "20543ccb",
   "metadata": {},
   "outputs": [],
   "source": [
    "#opening the file and addint the header\n",
    "with open(csvpath,'r') as csvfile:\n",
    "    csvreader = csv.reader(csvfile)\n",
    "    csv_header = next(csvreader)\n",
    "    print(f\"CSV Header: {csv_header}\")\n",
    "    for row in csvreader:\n",
    "        print(row)"
   ]
  },
  {
   "cell_type": "code",
   "execution_count": null,
   "id": "265b379c",
   "metadata": {},
   "outputs": [],
   "source": [
    "#Creating a list storing csv data\n",
    "with open(csvpath,'r') as csvfile:\n",
    "    csvreader = csv.reader(csvfile)\n",
    "    csv_header=next(csvreader)\n",
    "    budget_list=[]\n",
    "    for row in csvreader:\n",
    "        data=row\n",
    "        budget_list.append(data)\n",
    "        print(budget_list)"
   ]
  },
  {
   "cell_type": "code",
   "execution_count": null,
   "id": "599bbc3a",
   "metadata": {},
   "outputs": [],
   "source": [
    "#Calculating the number of months included in dataset\n",
    "#setting month count to 0\n",
    "month_count=0\n",
    "#looping through rows to get number of months\n",
    "with open(csvpath,'r') as csvfile:\n",
    "    csvreader = csv.reader(csvfile)\n",
    "    csv_header=next(csvreader)\n",
    "    for row in csvreader:\n",
    "        month_count += 1\n",
    "print(month_count)"
   ]
  },
  {
   "cell_type": "code",
   "execution_count": null,
   "id": "d88af7b5",
   "metadata": {},
   "outputs": [],
   "source": [
    "#Calculating the amount of \"Profit/Losses\" over the entire period\n",
    "with open(csvpath,'r') as csvfile:\n",
    "    csvreader= csv.reader(csvfile)\n",
    "    csv_header=next(csvreader)\n",
    "    #row[1] defined as object, so changing to integer\n",
    "    Total=sum(int(row[1])for row in csvreader)\n",
    "    #casting\n",
    "    print(f\"${Total}\")"
   ]
  },
  {
   "cell_type": "code",
   "execution_count": null,
   "id": "ff9c7df0",
   "metadata": {},
   "outputs": [],
   "source": [
    "#Calculating the changes in \"Profit/Losses\" over the entire period\n",
    "last_value= (budget_list[month_count-1])[1]\n",
    "first_value= (budget_list[0])[1]\n",
    "period_change = int(last_value) - int(first_value)\n",
    "average_change=round((period_change/month_count),2)\n",
    "print(average_change)  "
   ]
  },
  {
   "cell_type": "code",
   "execution_count": null,
   "id": "0f5a692e",
   "metadata": {},
   "outputs": [],
   "source": [
    "#Calculating the Profit/Loss changes and storing them in a list\n",
    "with open(csvpath,'r') as csvfile:\n",
    "    csvreader= csv.reader(csvfile)\n",
    "    csv_header=next(csvreader)\n",
    "    last_value=0\n",
    "    list_of_changes=[]\n",
    "    for row in csvreader:\n",
    "        change=int(row[1])-last_value\n",
    "        list_of_changes.append(change)\n",
    "        last_value=int(row[1])\n",
    "        #setting the last value to a previous row\n",
    "print(list_of_changes)"
   ]
  },
  {
   "cell_type": "code",
   "execution_count": null,
   "id": "ec40a5fc",
   "metadata": {},
   "outputs": [],
   "source": [
    "#using max() function to find the highest change \n",
    "highest_change=max(list_of_changes)\n",
    "#finding the index number of the highest change in the list storing profit/losses changes\n",
    "#finding the value with the same index in the list storing csv data\n",
    "#knowing that values are stored as a lists within the list with date first calls for index 0\n",
    "highest_month=(budget_list[list_of_changes.index(highest_change)])[0]\n",
    "greatest_increase=highest_month + \" \" + \"$\" +str(highest_change)\n",
    "print(greatest_increase)"
   ]
  },
  {
   "cell_type": "code",
   "execution_count": null,
   "id": "e43e1b6d",
   "metadata": {},
   "outputs": [],
   "source": [
    "#finding the lowest change (greatest decrease)\n",
    "lowest_change=min(list_of_changes)\n",
    "#finding the index number for the greatest decrease in the list storing profit/losses changes\n",
    "index_lowest=list_of_changes.index(lowest_change)\n",
    "#finding the values with the same index in the list storing csv data \n",
    "#knowing that values are stored as a lists within the list with date first calls for index 0\n",
    "lowest_month=(budget_list[index_lowest])[0]\n",
    "lowest_increase=lowest_month + \" \" + \"$\" +str(lowest_change)\n",
    "print(lowest_increase)"
   ]
  },
  {
   "cell_type": "code",
   "execution_count": null,
   "id": "f123aaa8",
   "metadata": {},
   "outputs": [],
   "source": [
    "#creates the dictionary storing all the values and print the analysis to the terminal\n",
    "financial_anaylsis={\"Total Months\":month_count,\n",
    "                   \"Total\":Total,\n",
    "                   \"Average change\":average_change,\n",
    "                    \"Greatest Increase in Profits\": greatest_increase,\n",
    "                   \"Greatest Decrease in Profits\": lowest_increase}\n",
    "print(financial_anaylsis)"
   ]
  },
  {
   "cell_type": "code",
   "execution_count": null,
   "id": "9cf8ead2",
   "metadata": {},
   "outputs": [],
   "source": [
    "#Exports text file to the Analysis folder\n",
    "output_path=\"Analysis/PyBank_Financial_Analysis.txt\"\n",
    "lines=['Financial Analysis','Total Months: 86', 'Total: 38382578', 'Average change: -2288.2', 'Greatest Increase in Profits: Feb-2012 ($1926159)', 'Greatest Decrease in Profits: Sep-2013 ($-116225)']\n",
    "with open(output_path,'w',newline=\"\") as txt:\n",
    "    for line in lines:\n",
    "        txt.write(line)\n",
    "        txt.write('\\n')"
   ]
  }
 ],
 "metadata": {
  "kernelspec": {
   "display_name": "Python 3",
   "language": "python",
   "name": "python3"
  },
  "language_info": {
   "codemirror_mode": {
    "name": "ipython",
    "version": 3
   },
   "file_extension": ".py",
   "mimetype": "text/x-python",
   "name": "python",
   "nbconvert_exporter": "python",
   "pygments_lexer": "ipython3",
   "version": "3.8.8"
  }
 },
 "nbformat": 4,
 "nbformat_minor": 5
}
